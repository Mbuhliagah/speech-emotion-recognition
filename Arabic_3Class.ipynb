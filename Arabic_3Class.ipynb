{
 "cells": [
  {
   "cell_type": "code",
   "execution_count": 26,
   "metadata": {},
   "outputs": [],
   "source": [
    "import pandas as pd\n",
    "import numpy as np\n",
    "import matplotlib.pyplot as plt\n",
    "from sklearn.model_selection import train_test_split\n",
    "from keras.utils import to_categorical\n",
    "from sklearn.preprocessing import StandardScaler\n",
    "import keras\n",
    "\n",
    "from keras import regularizers\n",
    "from keras.preprocessing import sequence\n",
    "from keras.models import Sequential\n",
    "from keras.layers import Dense, Embedding\n",
    "from keras.layers import LSTM\n",
    "from keras.preprocessing.text import Tokenizer\n",
    "from keras.preprocessing.sequence import pad_sequences\n",
    "from keras.utils import to_categorical\n",
    "from keras.layers import Input, Flatten, Dropout, Activation, BatchNormalization\n",
    "from keras.layers import Conv1D, MaxPooling1D, AveragePooling1D\n",
    "from keras.models import Model\n",
    "from keras.callbacks import ModelCheckpoint, LearningRateScheduler, EarlyStopping\n",
    "\n",
    "from sklearn.metrics import confusion_matrix\n",
    "from sklearn.preprocessing import LabelEncoder\n",
    "from keras.utils import np_utils"
   ]
  },
  {
   "cell_type": "code",
   "execution_count": 2,
   "metadata": {},
   "outputs": [],
   "source": [
    "df = pd.read_csv(\"datasets/ANAD_Normalized.csv\")"
   ]
  },
  {
   "cell_type": "code",
   "execution_count": 3,
   "metadata": {},
   "outputs": [
    {
     "data": {
      "text/plain": [
       "(1383, 847)"
      ]
     },
     "execution_count": 3,
     "metadata": {},
     "output_type": "execute_result"
    }
   ],
   "source": [
    "df.shape"
   ]
  },
  {
   "cell_type": "code",
   "execution_count": 4,
   "metadata": {},
   "outputs": [
    {
     "data": {
      "text/html": [
       "<div>\n",
       "<style scoped>\n",
       "    .dataframe tbody tr th:only-of-type {\n",
       "        vertical-align: middle;\n",
       "    }\n",
       "\n",
       "    .dataframe tbody tr th {\n",
       "        vertical-align: top;\n",
       "    }\n",
       "\n",
       "    .dataframe thead th {\n",
       "        text-align: right;\n",
       "    }\n",
       "</style>\n",
       "<table border=\"1\" class=\"dataframe\">\n",
       "  <thead>\n",
       "    <tr style=\"text-align: right;\">\n",
       "      <th></th>\n",
       "      <th>name</th>\n",
       "      <th>Emotion</th>\n",
       "      <th>Type</th>\n",
       "      <th>pcm_intensity_sma_max</th>\n",
       "      <th>pcm_intensity_sma_min</th>\n",
       "      <th>pcm_intensity_sma_range</th>\n",
       "      <th>pcm_intensity_sma_maxPos</th>\n",
       "      <th>pcm_intensity_sma_minPos</th>\n",
       "      <th>pcm_intensity_sma_amean</th>\n",
       "      <th>pcm_intensity_sma_linregc1</th>\n",
       "      <th>...</th>\n",
       "      <th>F0env_sma_de_linregerrQ</th>\n",
       "      <th>F0env_sma_de_stddev</th>\n",
       "      <th>F0env_sma_de_skewness</th>\n",
       "      <th>F0env_sma_de_kurtosis</th>\n",
       "      <th>F0env_sma_de_quartile1</th>\n",
       "      <th>F0env_sma_de_quartile2</th>\n",
       "      <th>F0env_sma_de_quartile3</th>\n",
       "      <th>F0env_sma_de_iqr12</th>\n",
       "      <th>F0env_sma_de_iqr23</th>\n",
       "      <th>F0env_sma_de_iqr13</th>\n",
       "    </tr>\n",
       "  </thead>\n",
       "  <tbody>\n",
       "    <tr>\n",
       "      <td>0</td>\n",
       "      <td>V2_1 (1).wav'</td>\n",
       "      <td>surprised</td>\n",
       "      <td>2</td>\n",
       "      <td>0.285714</td>\n",
       "      <td>0</td>\n",
       "      <td>0.285714</td>\n",
       "      <td>0.414894</td>\n",
       "      <td>0.0</td>\n",
       "      <td>0</td>\n",
       "      <td>0</td>\n",
       "      <td>...</td>\n",
       "      <td>0.092117</td>\n",
       "      <td>0.294281</td>\n",
       "      <td>0.771490</td>\n",
       "      <td>0.589508</td>\n",
       "      <td>0.117983</td>\n",
       "      <td>0.017167</td>\n",
       "      <td>0.027963</td>\n",
       "      <td>0.013516</td>\n",
       "      <td>0.067167</td>\n",
       "      <td>2.028063</td>\n",
       "    </tr>\n",
       "    <tr>\n",
       "      <td>1</td>\n",
       "      <td>V2_1 (2).wav'</td>\n",
       "      <td>surprised</td>\n",
       "      <td>2</td>\n",
       "      <td>0.285714</td>\n",
       "      <td>0</td>\n",
       "      <td>0.285714</td>\n",
       "      <td>0.404255</td>\n",
       "      <td>0.0</td>\n",
       "      <td>0</td>\n",
       "      <td>0</td>\n",
       "      <td>...</td>\n",
       "      <td>0.031789</td>\n",
       "      <td>0.203679</td>\n",
       "      <td>0.565664</td>\n",
       "      <td>0.335376</td>\n",
       "      <td>0.120382</td>\n",
       "      <td>0.027347</td>\n",
       "      <td>0.045084</td>\n",
       "      <td>0.044086</td>\n",
       "      <td>0.085771</td>\n",
       "      <td>3.003057</td>\n",
       "    </tr>\n",
       "    <tr>\n",
       "      <td>2</td>\n",
       "      <td>V2_1 (3).wav'</td>\n",
       "      <td>surprised</td>\n",
       "      <td>2</td>\n",
       "      <td>0.285714</td>\n",
       "      <td>0</td>\n",
       "      <td>0.285714</td>\n",
       "      <td>0.404255</td>\n",
       "      <td>0.0</td>\n",
       "      <td>0</td>\n",
       "      <td>0</td>\n",
       "      <td>...</td>\n",
       "      <td>0.097341</td>\n",
       "      <td>0.341096</td>\n",
       "      <td>0.657804</td>\n",
       "      <td>0.451624</td>\n",
       "      <td>0.107132</td>\n",
       "      <td>0.017167</td>\n",
       "      <td>0.028058</td>\n",
       "      <td>0.054392</td>\n",
       "      <td>0.067393</td>\n",
       "      <td>2.663894</td>\n",
       "    </tr>\n",
       "    <tr>\n",
       "      <td>3</td>\n",
       "      <td>V2_1 (4).wav'</td>\n",
       "      <td>surprised</td>\n",
       "      <td>2</td>\n",
       "      <td>0.285714</td>\n",
       "      <td>0</td>\n",
       "      <td>0.285714</td>\n",
       "      <td>0.404255</td>\n",
       "      <td>0.0</td>\n",
       "      <td>0</td>\n",
       "      <td>0</td>\n",
       "      <td>...</td>\n",
       "      <td>0.055432</td>\n",
       "      <td>0.245241</td>\n",
       "      <td>0.516015</td>\n",
       "      <td>0.350308</td>\n",
       "      <td>0.121571</td>\n",
       "      <td>0.020762</td>\n",
       "      <td>0.048233</td>\n",
       "      <td>0.013987</td>\n",
       "      <td>0.107900</td>\n",
       "      <td>3.138976</td>\n",
       "    </tr>\n",
       "    <tr>\n",
       "      <td>4</td>\n",
       "      <td>V2_1 (5).wav'</td>\n",
       "      <td>surprised</td>\n",
       "      <td>2</td>\n",
       "      <td>0.142857</td>\n",
       "      <td>0</td>\n",
       "      <td>0.142857</td>\n",
       "      <td>0.606383</td>\n",
       "      <td>0.0</td>\n",
       "      <td>0</td>\n",
       "      <td>0</td>\n",
       "      <td>...</td>\n",
       "      <td>0.033673</td>\n",
       "      <td>0.199890</td>\n",
       "      <td>0.519454</td>\n",
       "      <td>0.265627</td>\n",
       "      <td>0.119747</td>\n",
       "      <td>0.022636</td>\n",
       "      <td>0.045822</td>\n",
       "      <td>0.028148</td>\n",
       "      <td>0.097964</td>\n",
       "      <td>3.087905</td>\n",
       "    </tr>\n",
       "  </tbody>\n",
       "</table>\n",
       "<p>5 rows × 847 columns</p>\n",
       "</div>"
      ],
      "text/plain": [
       "            name   Emotion   Type  pcm_intensity_sma_max  \\\n",
       "0  V2_1 (1).wav'  surprised     2               0.285714   \n",
       "1  V2_1 (2).wav'  surprised     2               0.285714   \n",
       "2  V2_1 (3).wav'  surprised     2               0.285714   \n",
       "3  V2_1 (4).wav'  surprised     2               0.285714   \n",
       "4  V2_1 (5).wav'  surprised     2               0.142857   \n",
       "\n",
       "   pcm_intensity_sma_min  pcm_intensity_sma_range  pcm_intensity_sma_maxPos  \\\n",
       "0                      0                 0.285714                  0.414894   \n",
       "1                      0                 0.285714                  0.404255   \n",
       "2                      0                 0.285714                  0.404255   \n",
       "3                      0                 0.285714                  0.404255   \n",
       "4                      0                 0.142857                  0.606383   \n",
       "\n",
       "   pcm_intensity_sma_minPos  pcm_intensity_sma_amean  \\\n",
       "0                       0.0                        0   \n",
       "1                       0.0                        0   \n",
       "2                       0.0                        0   \n",
       "3                       0.0                        0   \n",
       "4                       0.0                        0   \n",
       "\n",
       "   pcm_intensity_sma_linregc1  ...  F0env_sma_de_linregerrQ  \\\n",
       "0                           0  ...                 0.092117   \n",
       "1                           0  ...                 0.031789   \n",
       "2                           0  ...                 0.097341   \n",
       "3                           0  ...                 0.055432   \n",
       "4                           0  ...                 0.033673   \n",
       "\n",
       "   F0env_sma_de_stddev  F0env_sma_de_skewness  F0env_sma_de_kurtosis  \\\n",
       "0             0.294281               0.771490               0.589508   \n",
       "1             0.203679               0.565664               0.335376   \n",
       "2             0.341096               0.657804               0.451624   \n",
       "3             0.245241               0.516015               0.350308   \n",
       "4             0.199890               0.519454               0.265627   \n",
       "\n",
       "   F0env_sma_de_quartile1  F0env_sma_de_quartile2  F0env_sma_de_quartile3  \\\n",
       "0                0.117983                0.017167                0.027963   \n",
       "1                0.120382                0.027347                0.045084   \n",
       "2                0.107132                0.017167                0.028058   \n",
       "3                0.121571                0.020762                0.048233   \n",
       "4                0.119747                0.022636                0.045822   \n",
       "\n",
       "   F0env_sma_de_iqr12  F0env_sma_de_iqr23  F0env_sma_de_iqr13  \n",
       "0            0.013516            0.067167            2.028063  \n",
       "1            0.044086            0.085771            3.003057  \n",
       "2            0.054392            0.067393            2.663894  \n",
       "3            0.013987            0.107900            3.138976  \n",
       "4            0.028148            0.097964            3.087905  \n",
       "\n",
       "[5 rows x 847 columns]"
      ]
     },
     "execution_count": 4,
     "metadata": {},
     "output_type": "execute_result"
    }
   ],
   "source": [
    "df.head()"
   ]
  },
  {
   "cell_type": "code",
   "execution_count": 5,
   "metadata": {},
   "outputs": [
    {
     "data": {
      "text/plain": [
       "array(['surprised', 'angry', 'happy'], dtype=object)"
      ]
     },
     "execution_count": 5,
     "metadata": {},
     "output_type": "execute_result"
    }
   ],
   "source": [
    "df['Emotion '].unique()"
   ]
  },
  {
   "cell_type": "code",
   "execution_count": 57,
   "metadata": {},
   "outputs": [
    {
     "data": {
      "text/plain": [
       "angry        53.579176\n",
       "happy        36.514823\n",
       "surprised     9.906001\n",
       "Name: Emotion , dtype: float64"
      ]
     },
     "execution_count": 57,
     "metadata": {},
     "output_type": "execute_result"
    }
   ],
   "source": [
    "df['Emotion '].value_counts()/df['Emotion '].shape*100"
   ]
  },
  {
   "cell_type": "code",
   "execution_count": 7,
   "metadata": {},
   "outputs": [],
   "source": [
    "df.drop('Type', 1, inplace = True)"
   ]
  },
  {
   "cell_type": "code",
   "execution_count": 8,
   "metadata": {},
   "outputs": [],
   "source": [
    "X = df.drop(['name', 'Emotion '], axis = 1) \n",
    "y = df['Emotion ']"
   ]
  },
  {
   "cell_type": "code",
   "execution_count": 9,
   "metadata": {},
   "outputs": [],
   "source": [
    "X_train, X_test, y_train, y_test = train_test_split(X, y, test_size=0.3, random_state = 1)\n"
   ]
  },
  {
   "cell_type": "code",
   "execution_count": 10,
   "metadata": {},
   "outputs": [],
   "source": [
    "ss = StandardScaler()\n",
    "X_train = ss.fit_transform(X_train)\n",
    "X_test = ss.transform(X_test)"
   ]
  },
  {
   "cell_type": "code",
   "execution_count": 11,
   "metadata": {},
   "outputs": [
    {
     "name": "stdout",
     "output_type": "stream",
     "text": [
      "(968, 415)\n"
     ]
    }
   ],
   "source": [
    "print((X_train.shape[0], X_test.shape[0]))"
   ]
  },
  {
   "cell_type": "code",
   "execution_count": 12,
   "metadata": {},
   "outputs": [
    {
     "name": "stdout",
     "output_type": "stream",
     "text": [
      "Features extracted: 844\n"
     ]
    }
   ],
   "source": [
    "print(f'Features extracted: {X_train.shape[1]}')"
   ]
  },
  {
   "cell_type": "markdown",
   "metadata": {},
   "source": [
    "# Multi Layer Perceptron Classifier"
   ]
  },
  {
   "cell_type": "code",
   "execution_count": 13,
   "metadata": {},
   "outputs": [],
   "source": [
    "from sklearn.neural_network import MLPClassifier\n",
    "classifier = MLPClassifier(alpha = 0.01, batch_size = 256, epsilon = 1e-08, hidden_layer_sizes = (300,), \n",
    "                    learning_rate='adaptive', max_iter = 500)"
   ]
  },
  {
   "cell_type": "code",
   "execution_count": 14,
   "metadata": {},
   "outputs": [
    {
     "data": {
      "text/plain": [
       "MLPClassifier(activation='relu', alpha=0.01, batch_size=256, beta_1=0.9,\n",
       "              beta_2=0.999, early_stopping=False, epsilon=1e-08,\n",
       "              hidden_layer_sizes=(300,), learning_rate='adaptive',\n",
       "              learning_rate_init=0.001, max_iter=500, momentum=0.9,\n",
       "              n_iter_no_change=10, nesterovs_momentum=True, power_t=0.5,\n",
       "              random_state=None, shuffle=True, solver='adam', tol=0.0001,\n",
       "              validation_fraction=0.1, verbose=False, warm_start=False)"
      ]
     },
     "execution_count": 14,
     "metadata": {},
     "output_type": "execute_result"
    }
   ],
   "source": [
    "classifier.fit(X_train,y_train)"
   ]
  },
  {
   "cell_type": "code",
   "execution_count": 15,
   "metadata": {},
   "outputs": [],
   "source": [
    "y_pred = classifier.predict(X_test)"
   ]
  },
  {
   "cell_type": "code",
   "execution_count": 16,
   "metadata": {},
   "outputs": [],
   "source": [
    "#y_pred"
   ]
  },
  {
   "cell_type": "code",
   "execution_count": 17,
   "metadata": {},
   "outputs": [],
   "source": [
    "#Calculating the accuracy of our model\n",
    "\n",
    "from sklearn.metrics import accuracy_score\n",
    "accuracy = accuracy_score(y_true = y_test, y_pred = y_pred)"
   ]
  },
  {
   "cell_type": "code",
   "execution_count": 18,
   "metadata": {},
   "outputs": [
    {
     "name": "stdout",
     "output_type": "stream",
     "text": [
      "Accuracy: 95.90%\n"
     ]
    }
   ],
   "source": [
    "print(\"Accuracy: {:.2f}%\".format(accuracy*100))"
   ]
  },
  {
   "cell_type": "code",
   "execution_count": 19,
   "metadata": {},
   "outputs": [],
   "source": [
    "y_pred = classifier.predict(X_train)\n",
    "accuracy = accuracy_score(y_true = y_train, y_pred = y_pred)\n"
   ]
  },
  {
   "cell_type": "code",
   "execution_count": 20,
   "metadata": {},
   "outputs": [
    {
     "name": "stdout",
     "output_type": "stream",
     "text": [
      "1.0\n"
     ]
    }
   ],
   "source": [
    "print(accuracy)"
   ]
  },
  {
   "cell_type": "markdown",
   "metadata": {},
   "source": [
    "# Changing dimension for CNN model"
   ]
  },
  {
   "cell_type": "code",
   "execution_count": 21,
   "metadata": {},
   "outputs": [],
   "source": [
    "X_train = np.array(X_train)\n",
    "y_train = np.array(y_train)\n",
    "X_test = np.array(X_test)\n",
    "y_test = np.array(y_test)\n",
    "lb = LabelEncoder()\n",
    "y_train = np_utils.to_categorical(lb.fit_transform(y_train))\n",
    "y_test = np_utils.to_categorical(lb.fit_transform(y_test))"
   ]
  },
  {
   "cell_type": "code",
   "execution_count": 22,
   "metadata": {},
   "outputs": [],
   "source": [
    "x_traincnn =np.expand_dims(X_train, axis=2)\n",
    "x_testcnn= np.expand_dims(X_test, axis=2)"
   ]
  },
  {
   "cell_type": "code",
   "execution_count": 23,
   "metadata": {},
   "outputs": [],
   "source": [
    "variables_for_classification=3"
   ]
  },
  {
   "cell_type": "code",
   "execution_count": 24,
   "metadata": {},
   "outputs": [],
   "source": [
    "model = Sequential()\n",
    "\n",
    "model.add(Conv1D(256, 5,padding='same',\n",
    "                 input_shape=(x_traincnn.shape[1],x_traincnn.shape[2])))\n",
    "model.add(Activation('relu'))\n",
    "model.add(Conv1D(128, 5,padding='same'))\n",
    "model.add(Activation('relu'))\n",
    "model.add(Dropout(0.25))###################################\n",
    "model.add(MaxPooling1D(pool_size=(8)))\n",
    "model.add(Conv1D(128, 5,padding='same',))\n",
    "model.add(Activation('relu'))\n",
    "model.add(Dropout(0.25))\n",
    "model.add(Conv1D(128, 5,padding='same',))\n",
    "model.add(Activation('relu'))\n",
    "model.add(Flatten())\n",
    "model.add(Dense(variables_for_classification))\n",
    "model.add(Activation('softmax'))\n",
    "opt = keras.optimizers.rmsprop(lr=0.00001, decay=1e-6)"
   ]
  },
  {
   "cell_type": "code",
   "execution_count": 27,
   "metadata": {},
   "outputs": [],
   "source": [
    "################# NEW MODEL ###################\n",
    "model = Sequential()\n",
    "\n",
    "model.add(Conv1D(256, 5,padding='same',\n",
    "                 input_shape=(x_traincnn.shape[1],x_traincnn.shape[2])))\n",
    "model.add(BatchNormalization())\n",
    "model.add(Conv1D(128, 8, activation='relu', kernel_regularizer=regularizers.l2(0.02)))\n",
    "model.add(BatchNormalization())\n",
    "model.add(MaxPooling1D(pool_size=(2)))\n",
    "model.add(Dropout(0.20))\n",
    "\n",
    "model.add(Conv1D(64, 8, activation='relu', kernel_regularizer=regularizers.l2(0.02)))\n",
    "model.add(BatchNormalization())\n",
    "model.add(Conv1D(64, 8, activation='relu', kernel_regularizer=regularizers.l2(0.02)))\n",
    "model.add(BatchNormalization())       \n",
    "model.add(MaxPooling1D(pool_size=(2)))\n",
    "model.add(Dropout(0.30))\n",
    "\n",
    "# model.add(Conv1D(265, 8, activation='relu', padding='same', kernel_regularizer=regularizers.l2(0.01)))\n",
    "# model.add(BatchNormalization())\n",
    "# model.add(Conv1D(128, 8, activation='relu', kernel_regularizer=regularizers.l2(0.01)))      \n",
    "# model.add(BatchNormalization())       \n",
    "# model.add(MaxPooling1D(pool_size=(2)))\n",
    "# model.add(Dropout(0.40))\n",
    "\n",
    "model.add(Flatten())\n",
    "\n",
    "model.add(Dense(1024, activation='relu', kernel_regularizer=regularizers.l2(0.02)))\n",
    "model.add(Dropout(0.30))\n",
    "\n",
    "\n",
    "model.add(Dense(512, activation='relu', kernel_regularizer=regularizers.l2(0.02)))\n",
    "model.add(Dropout(0.20))\n",
    "\n",
    "\n",
    "model.add(Dense(3, activation='softmax'))\n",
    "\n",
    "adam = keras.optimizers.Adam(lr=0.0001, decay=1e-6)"
   ]
  },
  {
   "cell_type": "code",
   "execution_count": 28,
   "metadata": {},
   "outputs": [
    {
     "name": "stdout",
     "output_type": "stream",
     "text": [
      "Model: \"sequential_3\"\n",
      "_________________________________________________________________\n",
      "Layer (type)                 Output Shape              Param #   \n",
      "=================================================================\n",
      "conv1d_6 (Conv1D)            (None, 844, 256)          1536      \n",
      "_________________________________________________________________\n",
      "batch_normalization_2 (Batch (None, 844, 256)          1024      \n",
      "_________________________________________________________________\n",
      "conv1d_7 (Conv1D)            (None, 837, 128)          262272    \n",
      "_________________________________________________________________\n",
      "batch_normalization_3 (Batch (None, 837, 128)          512       \n",
      "_________________________________________________________________\n",
      "max_pooling1d_2 (MaxPooling1 (None, 418, 128)          0         \n",
      "_________________________________________________________________\n",
      "dropout_3 (Dropout)          (None, 418, 128)          0         \n",
      "_________________________________________________________________\n",
      "conv1d_8 (Conv1D)            (None, 411, 64)           65600     \n",
      "_________________________________________________________________\n",
      "batch_normalization_4 (Batch (None, 411, 64)           256       \n",
      "_________________________________________________________________\n",
      "conv1d_9 (Conv1D)            (None, 404, 64)           32832     \n",
      "_________________________________________________________________\n",
      "batch_normalization_5 (Batch (None, 404, 64)           256       \n",
      "_________________________________________________________________\n",
      "max_pooling1d_3 (MaxPooling1 (None, 202, 64)           0         \n",
      "_________________________________________________________________\n",
      "dropout_4 (Dropout)          (None, 202, 64)           0         \n",
      "_________________________________________________________________\n",
      "flatten_2 (Flatten)          (None, 12928)             0         \n",
      "_________________________________________________________________\n",
      "dense_2 (Dense)              (None, 1024)              13239296  \n",
      "_________________________________________________________________\n",
      "dropout_5 (Dropout)          (None, 1024)              0         \n",
      "_________________________________________________________________\n",
      "dense_3 (Dense)              (None, 512)               524800    \n",
      "_________________________________________________________________\n",
      "dropout_6 (Dropout)          (None, 512)               0         \n",
      "_________________________________________________________________\n",
      "dense_4 (Dense)              (None, 3)                 1539      \n",
      "=================================================================\n",
      "Total params: 14,129,923\n",
      "Trainable params: 14,128,899\n",
      "Non-trainable params: 1,024\n",
      "_________________________________________________________________\n"
     ]
    }
   ],
   "source": [
    "model.summary()"
   ]
  },
  {
   "cell_type": "code",
   "execution_count": 29,
   "metadata": {},
   "outputs": [],
   "source": [
    "# Compile your model\n",
    "\n",
    "model.compile(loss='categorical_crossentropy', optimizer=adam, metrics=['accuracy'])"
   ]
  },
  {
   "cell_type": "code",
   "execution_count": 30,
   "metadata": {},
   "outputs": [],
   "source": [
    "from keras.callbacks import ReduceLROnPlateau"
   ]
  },
  {
   "cell_type": "code",
   "execution_count": 31,
   "metadata": {},
   "outputs": [
    {
     "name": "stdout",
     "output_type": "stream",
     "text": [
      "Train on 968 samples, validate on 415 samples\n",
      "Epoch 1/350\n",
      "968/968 [==============================] - 29s 30ms/step - loss: 56.7922 - accuracy: 0.7717 - val_loss: 55.2331 - val_accuracy: 0.3663\n",
      "Epoch 2/350\n",
      "968/968 [==============================] - 29s 30ms/step - loss: 52.4986 - accuracy: 0.9163 - val_loss: 51.2577 - val_accuracy: 0.4289\n",
      "Epoch 3/350\n",
      "968/968 [==============================] - 30s 31ms/step - loss: 48.4481 - accuracy: 0.9215 - val_loss: 46.8114 - val_accuracy: 0.7229\n",
      "Epoch 4/350\n",
      "968/968 [==============================] - 29s 30ms/step - loss: 44.3811 - accuracy: 0.9597 - val_loss: 42.7530 - val_accuracy: 0.8096\n",
      "Epoch 5/350\n",
      "968/968 [==============================] - 28s 29ms/step - loss: 40.6838 - accuracy: 0.9463 - val_loss: 39.6950 - val_accuracy: 0.5904\n",
      "Epoch 6/350\n",
      "968/968 [==============================] - 29s 29ms/step - loss: 37.0051 - accuracy: 0.9793 - val_loss: 35.4800 - val_accuracy: 0.9133\n",
      "Epoch 7/350\n",
      "968/968 [==============================] - 28s 29ms/step - loss: 33.6317 - accuracy: 0.9855 - val_loss: 32.2406 - val_accuracy: 0.8892\n",
      "Epoch 8/350\n",
      "968/968 [==============================] - 28s 29ms/step - loss: 30.5045 - accuracy: 0.9835 - val_loss: 29.2141 - val_accuracy: 0.9373\n",
      "Epoch 9/350\n",
      "968/968 [==============================] - 28s 29ms/step - loss: 27.6643 - accuracy: 0.9793 - val_loss: 26.4502 - val_accuracy: 0.9494\n",
      "Epoch 10/350\n",
      "968/968 [==============================] - 28s 29ms/step - loss: 25.0570 - accuracy: 0.9752 - val_loss: 23.9820 - val_accuracy: 0.9470\n",
      "Epoch 11/350\n",
      "968/968 [==============================] - 29s 30ms/step - loss: 22.6950 - accuracy: 0.9907 - val_loss: 21.7645 - val_accuracy: 0.9494\n",
      "Epoch 12/350\n",
      "968/968 [==============================] - 29s 30ms/step - loss: 20.5538 - accuracy: 0.9917 - val_loss: 19.7329 - val_accuracy: 0.9566\n",
      "Epoch 13/350\n",
      "968/968 [==============================] - 29s 30ms/step - loss: 18.6071 - accuracy: 0.9917 - val_loss: 17.9346 - val_accuracy: 0.9470\n",
      "Epoch 14/350\n",
      "968/968 [==============================] - 29s 30ms/step - loss: 16.8765 - accuracy: 0.9907 - val_loss: 16.2900 - val_accuracy: 0.9277\n",
      "Epoch 15/350\n",
      "968/968 [==============================] - 29s 30ms/step - loss: 15.3203 - accuracy: 0.9897 - val_loss: 14.7886 - val_accuracy: 0.9494\n",
      "Epoch 16/350\n",
      "968/968 [==============================] - 29s 30ms/step - loss: 13.9062 - accuracy: 0.9938 - val_loss: 13.4997 - val_accuracy: 0.9470\n",
      "Epoch 17/350\n",
      "968/968 [==============================] - 30s 31ms/step - loss: 12.6498 - accuracy: 0.9990 - val_loss: 12.3153 - val_accuracy: 0.9518\n",
      "Epoch 18/350\n",
      "968/968 [==============================] - 30s 30ms/step - loss: 11.5710 - accuracy: 0.9845 - val_loss: 11.2062 - val_accuracy: 0.9614\n",
      "Epoch 19/350\n",
      "968/968 [==============================] - 29s 30ms/step - loss: 10.6086 - accuracy: 0.9866 - val_loss: 10.3452 - val_accuracy: 0.9325\n",
      "Epoch 20/350\n",
      "968/968 [==============================] - 29s 30ms/step - loss: 9.6947 - accuracy: 0.9948 - val_loss: 9.4525 - val_accuracy: 0.9446\n",
      "Epoch 21/350\n",
      "968/968 [==============================] - 29s 30ms/step - loss: 8.8943 - accuracy: 0.9897 - val_loss: 8.6783 - val_accuracy: 0.9349\n",
      "Epoch 22/350\n",
      "968/968 [==============================] - 29s 30ms/step - loss: 8.1541 - accuracy: 0.9948 - val_loss: 7.9673 - val_accuracy: 0.9518\n",
      "Epoch 23/350\n",
      "968/968 [==============================] - 29s 30ms/step - loss: 7.5001 - accuracy: 0.9907 - val_loss: 7.3394 - val_accuracy: 0.9614\n",
      "Epoch 24/350\n",
      "968/968 [==============================] - 29s 30ms/step - loss: 6.9042 - accuracy: 0.9938 - val_loss: 6.8121 - val_accuracy: 0.9446\n",
      "Epoch 25/350\n",
      "968/968 [==============================] - 29s 30ms/step - loss: 6.3737 - accuracy: 0.9938 - val_loss: 6.2987 - val_accuracy: 0.9518\n",
      "Epoch 26/350\n",
      "968/968 [==============================] - 28s 29ms/step - loss: 5.8926 - accuracy: 0.9917 - val_loss: 5.8724 - val_accuracy: 0.9349\n",
      "Epoch 27/350\n",
      "968/968 [==============================] - 28s 29ms/step - loss: 5.4501 - accuracy: 0.9886 - val_loss: 5.4797 - val_accuracy: 0.9229\n",
      "Epoch 28/350\n",
      "968/968 [==============================] - 29s 30ms/step - loss: 5.1057 - accuracy: 0.9793 - val_loss: 5.2297 - val_accuracy: 0.9229\n",
      "Epoch 29/350\n",
      "968/968 [==============================] - 29s 30ms/step - loss: 4.7769 - accuracy: 0.9773 - val_loss: 4.8072 - val_accuracy: 0.9470\n",
      "Epoch 30/350\n",
      "968/968 [==============================] - 29s 30ms/step - loss: 4.4224 - accuracy: 0.9897 - val_loss: 4.4572 - val_accuracy: 0.9446\n",
      "Epoch 31/350\n",
      "968/968 [==============================] - 30s 31ms/step - loss: 4.0956 - accuracy: 0.9928 - val_loss: 4.1709 - val_accuracy: 0.9349\n",
      "Epoch 32/350\n",
      "968/968 [==============================] - 28s 29ms/step - loss: 3.7864 - accuracy: 0.9969 - val_loss: 3.8318 - val_accuracy: 0.9639\n",
      "Epoch 33/350\n",
      "968/968 [==============================] - 28s 29ms/step - loss: 3.5188 - accuracy: 0.9959 - val_loss: 3.5750 - val_accuracy: 0.9494\n",
      "Epoch 34/350\n",
      "968/968 [==============================] - 28s 29ms/step - loss: 3.2600 - accuracy: 0.9959 - val_loss: 3.3089 - val_accuracy: 0.9590\n",
      "Epoch 35/350\n",
      "968/968 [==============================] - 29s 30ms/step - loss: 3.0114 - accuracy: 0.9979 - val_loss: 3.0756 - val_accuracy: 0.9422\n",
      "Epoch 36/350\n",
      "968/968 [==============================] - 29s 30ms/step - loss: 2.7884 - accuracy: 0.9969 - val_loss: 2.8948 - val_accuracy: 0.9398\n",
      "Epoch 37/350\n",
      "968/968 [==============================] - 28s 29ms/step - loss: 2.5965 - accuracy: 0.9938 - val_loss: 2.6568 - val_accuracy: 0.9518\n",
      "Epoch 38/350\n",
      "968/968 [==============================] - 28s 29ms/step - loss: 2.4398 - accuracy: 0.9886 - val_loss: 2.6298 - val_accuracy: 0.9253\n",
      "Epoch 39/350\n",
      "968/968 [==============================] - 29s 30ms/step - loss: 2.3000 - accuracy: 0.9845 - val_loss: 2.3597 - val_accuracy: 0.9470\n",
      "Epoch 40/350\n",
      "968/968 [==============================] - 28s 29ms/step - loss: 2.1450 - accuracy: 0.9928 - val_loss: 2.3045 - val_accuracy: 0.9422\n",
      "Epoch 41/350\n",
      "968/968 [==============================] - 28s 29ms/step - loss: 2.0073 - accuracy: 0.9948 - val_loss: 2.0840 - val_accuracy: 0.9446\n",
      "Epoch 42/350\n",
      "968/968 [==============================] - 28s 29ms/step - loss: 1.8870 - accuracy: 0.9876 - val_loss: 2.0191 - val_accuracy: 0.9398\n",
      "Epoch 43/350\n",
      "968/968 [==============================] - 28s 29ms/step - loss: 1.8388 - accuracy: 0.9773 - val_loss: 1.9117 - val_accuracy: 0.9494\n",
      "Epoch 44/350\n",
      "968/968 [==============================] - 28s 29ms/step - loss: 1.7219 - accuracy: 0.9866 - val_loss: 1.8109 - val_accuracy: 0.9446\n",
      "Epoch 45/350\n",
      "968/968 [==============================] - 29s 30ms/step - loss: 1.5766 - accuracy: 0.9917 - val_loss: 1.6593 - val_accuracy: 0.9566\n",
      "Epoch 46/350\n",
      "968/968 [==============================] - 29s 30ms/step - loss: 1.4711 - accuracy: 0.9917 - val_loss: 1.6052 - val_accuracy: 0.9470\n",
      "Epoch 47/350\n",
      "968/968 [==============================] - 30s 31ms/step - loss: 1.3906 - accuracy: 0.9845 - val_loss: 1.5381 - val_accuracy: 0.9373\n",
      "Epoch 48/350\n",
      "968/968 [==============================] - 29s 30ms/step - loss: 1.2901 - accuracy: 0.9897 - val_loss: 1.4087 - val_accuracy: 0.9542\n",
      "Epoch 49/350\n",
      "968/968 [==============================] - 29s 30ms/step - loss: 1.1890 - accuracy: 0.9948 - val_loss: 1.3073 - val_accuracy: 0.9566\n",
      "Epoch 50/350\n",
      "968/968 [==============================] - 29s 30ms/step - loss: 1.0907 - accuracy: 0.9959 - val_loss: 1.2136 - val_accuracy: 0.9518\n",
      "Epoch 51/350\n",
      "968/968 [==============================] - 30s 31ms/step - loss: 1.0008 - accuracy: 0.9969 - val_loss: 1.1099 - val_accuracy: 0.9663\n",
      "Epoch 52/350\n",
      "968/968 [==============================] - 29s 30ms/step - loss: 0.9253 - accuracy: 0.9959 - val_loss: 1.0560 - val_accuracy: 0.9590\n",
      "Epoch 53/350\n",
      "968/968 [==============================] - 29s 30ms/step - loss: 0.8509 - accuracy: 0.9990 - val_loss: 0.9950 - val_accuracy: 0.9518\n",
      "Epoch 54/350\n",
      "968/968 [==============================] - 29s 30ms/step - loss: 0.7854 - accuracy: 0.9979 - val_loss: 0.9107 - val_accuracy: 0.9614\n",
      "Epoch 55/350\n",
      "968/968 [==============================] - 28s 29ms/step - loss: 0.7170 - accuracy: 1.0000 - val_loss: 0.8568 - val_accuracy: 0.9566\n",
      "Epoch 56/350\n"
     ]
    },
    {
     "name": "stdout",
     "output_type": "stream",
     "text": [
      "968/968 [==============================] - 29s 30ms/step - loss: 0.6636 - accuracy: 0.9979 - val_loss: 0.8555 - val_accuracy: 0.9590\n",
      "Epoch 57/350\n",
      "968/968 [==============================] - 29s 30ms/step - loss: 0.6209 - accuracy: 0.9959 - val_loss: 0.8522 - val_accuracy: 0.9229\n",
      "Epoch 58/350\n",
      "968/968 [==============================] - 28s 29ms/step - loss: 0.6398 - accuracy: 0.9845 - val_loss: 0.8649 - val_accuracy: 0.9205\n",
      "Epoch 59/350\n",
      "968/968 [==============================] - 29s 30ms/step - loss: 0.6902 - accuracy: 0.9773 - val_loss: 0.9365 - val_accuracy: 0.9373\n",
      "Epoch 60/350\n",
      "968/968 [==============================] - 29s 30ms/step - loss: 0.6767 - accuracy: 0.9824 - val_loss: 0.8365 - val_accuracy: 0.9398\n",
      "Epoch 61/350\n",
      "968/968 [==============================] - 29s 30ms/step - loss: 0.6087 - accuracy: 0.9938 - val_loss: 0.7530 - val_accuracy: 0.9470\n",
      "Epoch 62/350\n",
      "968/968 [==============================] - 29s 30ms/step - loss: 0.5690 - accuracy: 0.9917 - val_loss: 0.6775 - val_accuracy: 0.9614\n",
      "Epoch 63/350\n",
      "968/968 [==============================] - 29s 30ms/step - loss: 0.5171 - accuracy: 0.9948 - val_loss: 0.6551 - val_accuracy: 0.9566\n",
      "Epoch 64/350\n",
      "968/968 [==============================] - 30s 31ms/step - loss: 0.4683 - accuracy: 0.9959 - val_loss: 0.6365 - val_accuracy: 0.9398\n",
      "Epoch 65/350\n",
      "968/968 [==============================] - 31s 32ms/step - loss: 0.4400 - accuracy: 0.9938 - val_loss: 0.5837 - val_accuracy: 0.9446\n",
      "Epoch 66/350\n",
      "968/968 [==============================] - 29s 30ms/step - loss: 0.4277 - accuracy: 0.9928 - val_loss: 0.6135 - val_accuracy: 0.9494\n",
      "Epoch 67/350\n",
      "968/968 [==============================] - 29s 30ms/step - loss: 0.3818 - accuracy: 0.9990 - val_loss: 0.5395 - val_accuracy: 0.9446\n",
      "Epoch 68/350\n",
      "968/968 [==============================] - 29s 30ms/step - loss: 0.3426 - accuracy: 1.0000 - val_loss: 0.4838 - val_accuracy: 0.9614\n",
      "Epoch 69/350\n",
      "968/968 [==============================] - 29s 30ms/step - loss: 0.3091 - accuracy: 1.0000 - val_loss: 0.4557 - val_accuracy: 0.9590\n",
      "Epoch 70/350\n",
      "968/968 [==============================] - 30s 31ms/step - loss: 0.2813 - accuracy: 0.9990 - val_loss: 0.4340 - val_accuracy: 0.9614\n",
      "Epoch 71/350\n",
      "968/968 [==============================] - 31s 32ms/step - loss: 0.2621 - accuracy: 0.9979 - val_loss: 0.4498 - val_accuracy: 0.9422\n",
      "Epoch 72/350\n",
      "968/968 [==============================] - 30s 31ms/step - loss: 0.2530 - accuracy: 0.9969 - val_loss: 0.4936 - val_accuracy: 0.9277\n",
      "Epoch 73/350\n",
      "968/968 [==============================] - 29s 30ms/step - loss: 0.2887 - accuracy: 0.9897 - val_loss: 0.5727 - val_accuracy: 0.9181\n",
      "Epoch 74/350\n",
      "968/968 [==============================] - 29s 30ms/step - loss: 0.3685 - accuracy: 0.9680 - val_loss: 0.7387 - val_accuracy: 0.9181\n",
      "Epoch 75/350\n",
      "968/968 [==============================] - 28s 29ms/step - loss: 0.3869 - accuracy: 0.9814 - val_loss: 0.6454 - val_accuracy: 0.9373\n",
      "Epoch 76/350\n",
      "968/968 [==============================] - 29s 30ms/step - loss: 0.3847 - accuracy: 0.9876 - val_loss: 0.5896 - val_accuracy: 0.9277\n",
      "Epoch 77/350\n",
      "968/968 [==============================] - 29s 30ms/step - loss: 0.3480 - accuracy: 0.9917 - val_loss: 0.5712 - val_accuracy: 0.9518\n",
      "Epoch 78/350\n",
      "968/968 [==============================] - 29s 30ms/step - loss: 0.3190 - accuracy: 0.9969 - val_loss: 0.4846 - val_accuracy: 0.9518\n",
      "Epoch 79/350\n",
      "968/968 [==============================] - 29s 30ms/step - loss: 0.2742 - accuracy: 0.9979 - val_loss: 0.4563 - val_accuracy: 0.9494\n",
      "Epoch 80/350\n",
      "968/968 [==============================] - 30s 31ms/step - loss: 0.2435 - accuracy: 1.0000 - val_loss: 0.4197 - val_accuracy: 0.9542\n",
      "Epoch 81/350\n",
      "968/968 [==============================] - 31s 32ms/step - loss: 0.2181 - accuracy: 0.9990 - val_loss: 0.3948 - val_accuracy: 0.9518\n",
      "Epoch 82/350\n",
      "968/968 [==============================] - 31s 32ms/step - loss: 0.1981 - accuracy: 0.9990 - val_loss: 0.3425 - val_accuracy: 0.9590\n",
      "Epoch 83/350\n",
      "968/968 [==============================] - 28s 29ms/step - loss: 0.1829 - accuracy: 1.0000 - val_loss: 0.3286 - val_accuracy: 0.9566\n",
      "Epoch 84/350\n",
      "968/968 [==============================] - 28s 29ms/step - loss: 0.1672 - accuracy: 0.9990 - val_loss: 0.3119 - val_accuracy: 0.9542\n",
      "Epoch 85/350\n",
      "968/968 [==============================] - 29s 30ms/step - loss: 0.1532 - accuracy: 1.0000 - val_loss: 0.3005 - val_accuracy: 0.9542\n",
      "Epoch 86/350\n",
      "968/968 [==============================] - 29s 29ms/step - loss: 0.1396 - accuracy: 1.0000 - val_loss: 0.3006 - val_accuracy: 0.9470\n",
      "Epoch 87/350\n",
      "968/968 [==============================] - 28s 29ms/step - loss: 0.1289 - accuracy: 1.0000 - val_loss: 0.2773 - val_accuracy: 0.9542\n",
      "Epoch 88/350\n",
      "968/968 [==============================] - 29s 30ms/step - loss: 0.1216 - accuracy: 1.0000 - val_loss: 0.2918 - val_accuracy: 0.9494\n",
      "Epoch 89/350\n",
      "968/968 [==============================] - 30s 31ms/step - loss: 0.1137 - accuracy: 1.0000 - val_loss: 0.3021 - val_accuracy: 0.9398\n",
      "Epoch 90/350\n",
      "968/968 [==============================] - 29s 30ms/step - loss: 0.1181 - accuracy: 0.9990 - val_loss: 0.2759 - val_accuracy: 0.9566\n",
      "Epoch 91/350\n",
      "968/968 [==============================] - 28s 29ms/step - loss: 0.1334 - accuracy: 0.9938 - val_loss: 0.4027 - val_accuracy: 0.9253\n",
      "Epoch 92/350\n",
      "968/968 [==============================] - 28s 29ms/step - loss: 0.2936 - accuracy: 0.9587 - val_loss: 0.9393 - val_accuracy: 0.8867\n",
      "Epoch 93/350\n",
      "968/968 [==============================] - 28s 29ms/step - loss: 0.3504 - accuracy: 0.9721 - val_loss: 0.7388 - val_accuracy: 0.9060\n",
      "Epoch 94/350\n",
      "968/968 [==============================] - 29s 30ms/step - loss: 0.2906 - accuracy: 0.9959 - val_loss: 0.4719 - val_accuracy: 0.9349\n",
      "Epoch 95/350\n",
      "968/968 [==============================] - 28s 29ms/step - loss: 0.2406 - accuracy: 0.9948 - val_loss: 0.4391 - val_accuracy: 0.9398\n",
      "Epoch 96/350\n",
      "968/968 [==============================] - 28s 29ms/step - loss: 0.2101 - accuracy: 0.9979 - val_loss: 0.3984 - val_accuracy: 0.9518\n",
      "Epoch 97/350\n",
      "968/968 [==============================] - 29s 30ms/step - loss: 0.1883 - accuracy: 0.9969 - val_loss: 0.3816 - val_accuracy: 0.9590\n",
      "Epoch 98/350\n",
      "968/968 [==============================] - 31s 32ms/step - loss: 0.1635 - accuracy: 1.0000 - val_loss: 0.3523 - val_accuracy: 0.9518\n",
      "Epoch 99/350\n",
      "968/968 [==============================] - 30s 31ms/step - loss: 0.1443 - accuracy: 1.0000 - val_loss: 0.3236 - val_accuracy: 0.9518\n",
      "Epoch 100/350\n",
      "968/968 [==============================] - 30s 31ms/step - loss: 0.1287 - accuracy: 1.0000 - val_loss: 0.3031 - val_accuracy: 0.9542\n",
      "Epoch 101/350\n",
      "968/968 [==============================] - 30s 31ms/step - loss: 0.1175 - accuracy: 0.9990 - val_loss: 0.3237 - val_accuracy: 0.9398\n",
      "Epoch 102/350\n",
      "968/968 [==============================] - 30s 31ms/step - loss: 0.1104 - accuracy: 0.9990 - val_loss: 0.2689 - val_accuracy: 0.9566\n",
      "Epoch 103/350\n",
      "968/968 [==============================] - 30s 31ms/step - loss: 0.1002 - accuracy: 1.0000 - val_loss: 0.2708 - val_accuracy: 0.9566\n",
      "Epoch 104/350\n",
      "968/968 [==============================] - 30s 31ms/step - loss: 0.0921 - accuracy: 1.0000 - val_loss: 0.2753 - val_accuracy: 0.9494\n",
      "Epoch 105/350\n",
      "968/968 [==============================] - 30s 31ms/step - loss: 0.0866 - accuracy: 1.0000 - val_loss: 0.2548 - val_accuracy: 0.9639\n",
      "Epoch 106/350\n",
      "968/968 [==============================] - 30s 31ms/step - loss: 0.0846 - accuracy: 1.0000 - val_loss: 0.2681 - val_accuracy: 0.9470\n",
      "Epoch 107/350\n",
      "968/968 [==============================] - 30s 31ms/step - loss: 0.0805 - accuracy: 1.0000 - val_loss: 0.2601 - val_accuracy: 0.9590\n",
      "Epoch 108/350\n",
      "968/968 [==============================] - 30s 31ms/step - loss: 0.0822 - accuracy: 1.0000 - val_loss: 0.2456 - val_accuracy: 0.9639\n",
      "Epoch 109/350\n",
      "968/968 [==============================] - 30s 31ms/step - loss: 0.0916 - accuracy: 0.9969 - val_loss: 0.3431 - val_accuracy: 0.9277\n",
      "Epoch 110/350\n",
      "968/968 [==============================] - 30s 31ms/step - loss: 0.1914 - accuracy: 0.9700 - val_loss: 1.2282 - val_accuracy: 0.8771\n",
      "Epoch 111/350\n",
      "968/968 [==============================] - 30s 31ms/step - loss: 0.3658 - accuracy: 0.9483 - val_loss: 0.6955 - val_accuracy: 0.9325\n",
      "Epoch 112/350\n"
     ]
    },
    {
     "name": "stdout",
     "output_type": "stream",
     "text": [
      "968/968 [==============================] - 30s 31ms/step - loss: 0.2930 - accuracy: 0.9855 - val_loss: 0.4440 - val_accuracy: 0.9470\n",
      "Epoch 113/350\n",
      "968/968 [==============================] - 30s 31ms/step - loss: 0.2438 - accuracy: 0.9928 - val_loss: 0.4692 - val_accuracy: 0.9349\n",
      "Epoch 114/350\n",
      "968/968 [==============================] - 30s 31ms/step - loss: 0.2063 - accuracy: 0.9969 - val_loss: 0.4176 - val_accuracy: 0.9349\n",
      "Epoch 115/350\n",
      "968/968 [==============================] - 30s 31ms/step - loss: 0.1779 - accuracy: 1.0000 - val_loss: 0.3663 - val_accuracy: 0.9542\n",
      "Epoch 116/350\n",
      "968/968 [==============================] - 30s 31ms/step - loss: 0.1580 - accuracy: 0.9979 - val_loss: 0.3367 - val_accuracy: 0.9494\n",
      "Epoch 117/350\n",
      "968/968 [==============================] - 31s 32ms/step - loss: 0.1440 - accuracy: 0.9990 - val_loss: 0.3241 - val_accuracy: 0.9518\n",
      "Epoch 118/350\n",
      "968/968 [==============================] - 30s 31ms/step - loss: 0.1321 - accuracy: 0.9990 - val_loss: 0.3734 - val_accuracy: 0.9325\n",
      "Epoch 119/350\n",
      "968/968 [==============================] - 29s 30ms/step - loss: 0.1208 - accuracy: 0.9990 - val_loss: 0.3436 - val_accuracy: 0.9398\n",
      "Epoch 120/350\n",
      "968/968 [==============================] - 30s 31ms/step - loss: 0.1188 - accuracy: 0.9959 - val_loss: 0.3404 - val_accuracy: 0.9301\n",
      "Epoch 121/350\n",
      "968/968 [==============================] - 30s 31ms/step - loss: 0.1368 - accuracy: 0.9917 - val_loss: 0.3506 - val_accuracy: 0.9446\n",
      "Epoch 122/350\n",
      "968/968 [==============================] - 30s 31ms/step - loss: 0.1602 - accuracy: 0.9886 - val_loss: 0.3736 - val_accuracy: 0.9518\n",
      "Epoch 123/350\n",
      "968/968 [==============================] - 30s 31ms/step - loss: 0.2168 - accuracy: 0.9804 - val_loss: 0.5513 - val_accuracy: 0.9349\n",
      "Epoch 124/350\n",
      "968/968 [==============================] - 30s 31ms/step - loss: 0.2151 - accuracy: 0.9917 - val_loss: 0.4349 - val_accuracy: 0.9349\n",
      "Epoch 125/350\n",
      "968/968 [==============================] - 30s 31ms/step - loss: 0.2016 - accuracy: 0.9876 - val_loss: 0.3584 - val_accuracy: 0.9470\n",
      "Epoch 126/350\n",
      "968/968 [==============================] - 30s 31ms/step - loss: 0.1807 - accuracy: 0.9979 - val_loss: 0.3881 - val_accuracy: 0.9494\n",
      "Epoch 127/350\n",
      "968/968 [==============================] - 30s 31ms/step - loss: 0.1565 - accuracy: 0.9979 - val_loss: 0.3605 - val_accuracy: 0.9518\n",
      "Epoch 128/350\n",
      "968/968 [==============================] - 30s 31ms/step - loss: 0.1454 - accuracy: 0.9938 - val_loss: 0.3096 - val_accuracy: 0.9494\n",
      "Epoch 00128: early stopping\n"
     ]
    }
   ],
   "source": [
    "\n",
    "# Model Training\n",
    "\n",
    "lr_reduce = ReduceLROnPlateau(monitor='val_loss', factor=0.9, patience=20, min_lr=0.000001)\n",
    "es = EarlyStopping(monitor='val_loss', mode='min', verbose=1, patience=20, min_delta=0.0001)\n",
    "mcp_save = ModelCheckpoint('model/Ar_model_CNN_2.h5', save_best_only=True, monitor='val_loss', mode='min')\n",
    "cnnhistory=model.fit(x_traincnn, y_train, batch_size=16, epochs=350,\n",
    "                     validation_data=(x_testcnn, y_test), callbacks=[mcp_save, lr_reduce, es])"
   ]
  },
  {
   "cell_type": "code",
   "execution_count": 32,
   "metadata": {},
   "outputs": [
    {
     "data": {
      "image/png": "[encoded data removed]",
      "text/plain": [
       "<Figure size 432x288 with 1 Axes>"
      ]
     },
     "metadata": {
      "needs_background": "light"
     },
     "output_type": "display_data"
    }
   ],
   "source": [
    "# Plotting the Train Valid Loss Graph\n",
    "\n",
    "plt.plot(cnnhistory.history['loss'])\n",
    "plt.plot(cnnhistory.history['val_loss'])\n",
    "plt.title('model loss')\n",
    "plt.ylabel('loss')\n",
    "plt.xlabel('epoch')\n",
    "plt.legend(['train', 'test'], loc='upper left')\n",
    "plt.show()"
   ]
  },
  {
   "cell_type": "code",
   "execution_count": 33,
   "metadata": {},
   "outputs": [],
   "source": [
    "# Saving the model.json\n",
    "\n",
    "import json\n",
    "model_json = model.to_json()\n",
    "with open(\"Ar1_model2.json\", \"w\") as json_file:\n",
    "    json_file.write(model_json)"
   ]
  },
  {
   "cell_type": "code",
   "execution_count": 34,
   "metadata": {},
   "outputs": [
    {
     "name": "stdout",
     "output_type": "stream",
     "text": [
      "Loaded model from disk\n",
      "accuracy: 96.39%\n"
     ]
    }
   ],
   "source": [
    "# loading json and creating model\n",
    "from keras.models import model_from_json\n",
    "json_file = open('Ar1_model2.json', 'r')\n",
    "loaded_model_json = json_file.read()\n",
    "json_file.close()\n",
    "loaded_model = model_from_json(loaded_model_json)\n",
    "\n",
    "# load weights into new model\n",
    "loaded_model.load_weights(\"model/Ar_model_CNN_2.h5\")\n",
    "print(\"Loaded model from disk\")\n",
    " \n",
    "# evaluate loaded model on test data\n",
    "loaded_model.compile(loss='categorical_crossentropy', optimizer=opt, metrics=['accuracy'])\n",
    "score = loaded_model.evaluate(x_testcnn, y_test, verbose=0)\n",
    "print(\"%s: %.2f%%\" % (loaded_model.metrics_names[1], score[1]*100))"
   ]
  },
  {
   "cell_type": "code",
   "execution_count": 53,
   "metadata": {},
   "outputs": [
    {
     "name": "stdout",
     "output_type": "stream",
     "text": [
      "0.99380165\n"
     ]
    }
   ],
   "source": [
    "print(cnnhistory.history['accuracy'][-1])"
   ]
  },
  {
   "cell_type": "code",
   "execution_count": 54,
   "metadata": {},
   "outputs": [
    {
     "name": "stdout",
     "output_type": "stream",
     "text": [
      "0.9493975639343262\n"
     ]
    }
   ],
   "source": [
    "print(cnnhistory.history['val_accuracy'][-1])"
   ]
  },
  {
   "cell_type": "code",
   "execution_count": 58,
   "metadata": {},
   "outputs": [
    {
     "name": "stdout",
     "output_type": "stream",
     "text": [
      "0.1454281720740736\n",
      "0.30960080896515446\n"
     ]
    }
   ],
   "source": [
    "print(cnnhistory.history['loss'][-1])\n",
    "print(cnnhistory.history['val_loss'][-1])"
   ]
  },
  {
   "cell_type": "code",
   "execution_count": 37,
   "metadata": {},
   "outputs": [
    {
     "name": "stdout",
     "output_type": "stream",
     "text": [
      "415/415 [==============================] - 2s 4ms/step\n"
     ]
    }
   ],
   "source": [
    "\n",
    "preds = loaded_model.predict(x_testcnn, \n",
    "                         batch_size=32, \n",
    "                         verbose=1)"
   ]
  },
  {
   "cell_type": "code",
   "execution_count": 38,
   "metadata": {},
   "outputs": [],
   "source": [
    "preds1=preds.argmax(axis=1)"
   ]
  },
  {
   "cell_type": "code",
   "execution_count": 39,
   "metadata": {},
   "outputs": [],
   "source": [
    "abc = preds1.astype(int).flatten()"
   ]
  },
  {
   "cell_type": "code",
   "execution_count": 40,
   "metadata": {},
   "outputs": [],
   "source": [
    "predictions = (lb.inverse_transform((abc)))"
   ]
  },
  {
   "cell_type": "code",
   "execution_count": 51,
   "metadata": {},
   "outputs": [
    {
     "data": {
      "text/html": [
       "<div>\n",
       "<style scoped>\n",
       "    .dataframe tbody tr th:only-of-type {\n",
       "        vertical-align: middle;\n",
       "    }\n",
       "\n",
       "    .dataframe tbody tr th {\n",
       "        vertical-align: top;\n",
       "    }\n",
       "\n",
       "    .dataframe thead th {\n",
       "        text-align: right;\n",
       "    }\n",
       "</style>\n",
       "<table border=\"1\" class=\"dataframe\">\n",
       "  <thead>\n",
       "    <tr style=\"text-align: right;\">\n",
       "      <th></th>\n",
       "      <th>predictedvalues</th>\n",
       "    </tr>\n",
       "  </thead>\n",
       "  <tbody>\n",
       "    <tr>\n",
       "      <td>0</td>\n",
       "      <td>angry</td>\n",
       "    </tr>\n",
       "    <tr>\n",
       "      <td>1</td>\n",
       "      <td>angry</td>\n",
       "    </tr>\n",
       "    <tr>\n",
       "      <td>2</td>\n",
       "      <td>angry</td>\n",
       "    </tr>\n",
       "    <tr>\n",
       "      <td>3</td>\n",
       "      <td>happy</td>\n",
       "    </tr>\n",
       "    <tr>\n",
       "      <td>4</td>\n",
       "      <td>surprised</td>\n",
       "    </tr>\n",
       "    <tr>\n",
       "      <td>5</td>\n",
       "      <td>angry</td>\n",
       "    </tr>\n",
       "    <tr>\n",
       "      <td>6</td>\n",
       "      <td>angry</td>\n",
       "    </tr>\n",
       "    <tr>\n",
       "      <td>7</td>\n",
       "      <td>happy</td>\n",
       "    </tr>\n",
       "    <tr>\n",
       "      <td>8</td>\n",
       "      <td>happy</td>\n",
       "    </tr>\n",
       "    <tr>\n",
       "      <td>9</td>\n",
       "      <td>happy</td>\n",
       "    </tr>\n",
       "  </tbody>\n",
       "</table>\n",
       "</div>"
      ],
      "text/plain": [
       "  predictedvalues\n",
       "0           angry\n",
       "1           angry\n",
       "2           angry\n",
       "3           happy\n",
       "4       surprised\n",
       "5           angry\n",
       "6           angry\n",
       "7           happy\n",
       "8           happy\n",
       "9           happy"
      ]
     },
     "execution_count": 51,
     "metadata": {},
     "output_type": "execute_result"
    }
   ],
   "source": [
    "preddf = pd.DataFrame({'predictedvalues': predictions})\n",
    "preddf.head(10)"
   ]
  },
  {
   "cell_type": "code",
   "execution_count": 42,
   "metadata": {},
   "outputs": [],
   "source": [
    "actual=y_test.argmax(axis=1)\n",
    "abc123 = actual.astype(int).flatten()\n",
    "actualvalues = (lb.inverse_transform((abc123)))"
   ]
  },
  {
   "cell_type": "code",
   "execution_count": 52,
   "metadata": {},
   "outputs": [
    {
     "data": {
      "text/html": [
       "<div>\n",
       "<style scoped>\n",
       "    .dataframe tbody tr th:only-of-type {\n",
       "        vertical-align: middle;\n",
       "    }\n",
       "\n",
       "    .dataframe tbody tr th {\n",
       "        vertical-align: top;\n",
       "    }\n",
       "\n",
       "    .dataframe thead th {\n",
       "        text-align: right;\n",
       "    }\n",
       "</style>\n",
       "<table border=\"1\" class=\"dataframe\">\n",
       "  <thead>\n",
       "    <tr style=\"text-align: right;\">\n",
       "      <th></th>\n",
       "      <th>actualvalues</th>\n",
       "    </tr>\n",
       "  </thead>\n",
       "  <tbody>\n",
       "    <tr>\n",
       "      <td>0</td>\n",
       "      <td>angry</td>\n",
       "    </tr>\n",
       "    <tr>\n",
       "      <td>1</td>\n",
       "      <td>angry</td>\n",
       "    </tr>\n",
       "    <tr>\n",
       "      <td>2</td>\n",
       "      <td>angry</td>\n",
       "    </tr>\n",
       "    <tr>\n",
       "      <td>3</td>\n",
       "      <td>happy</td>\n",
       "    </tr>\n",
       "    <tr>\n",
       "      <td>4</td>\n",
       "      <td>surprised</td>\n",
       "    </tr>\n",
       "    <tr>\n",
       "      <td>5</td>\n",
       "      <td>angry</td>\n",
       "    </tr>\n",
       "    <tr>\n",
       "      <td>6</td>\n",
       "      <td>angry</td>\n",
       "    </tr>\n",
       "    <tr>\n",
       "      <td>7</td>\n",
       "      <td>happy</td>\n",
       "    </tr>\n",
       "    <tr>\n",
       "      <td>8</td>\n",
       "      <td>happy</td>\n",
       "    </tr>\n",
       "    <tr>\n",
       "      <td>9</td>\n",
       "      <td>happy</td>\n",
       "    </tr>\n",
       "  </tbody>\n",
       "</table>\n",
       "</div>"
      ],
      "text/plain": [
       "  actualvalues\n",
       "0        angry\n",
       "1        angry\n",
       "2        angry\n",
       "3        happy\n",
       "4    surprised\n",
       "5        angry\n",
       "6        angry\n",
       "7        happy\n",
       "8        happy\n",
       "9        happy"
      ]
     },
     "execution_count": 52,
     "metadata": {},
     "output_type": "execute_result"
    }
   ],
   "source": [
    "actualdf = pd.DataFrame({'actualvalues': actualvalues})\n",
    "actualdf.head(10)"
   ]
  },
  {
   "cell_type": "code",
   "execution_count": 44,
   "metadata": {},
   "outputs": [],
   "source": [
    "finaldf = actualdf.join(preddf)"
   ]
  },
  {
   "cell_type": "code",
   "execution_count": 45,
   "metadata": {},
   "outputs": [
    {
     "data": {
      "text/html": [
       "<div>\n",
       "<style scoped>\n",
       "    .dataframe tbody tr th:only-of-type {\n",
       "        vertical-align: middle;\n",
       "    }\n",
       "\n",
       "    .dataframe tbody tr th {\n",
       "        vertical-align: top;\n",
       "    }\n",
       "\n",
       "    .dataframe thead th {\n",
       "        text-align: right;\n",
       "    }\n",
       "</style>\n",
       "<table border=\"1\" class=\"dataframe\">\n",
       "  <thead>\n",
       "    <tr style=\"text-align: right;\">\n",
       "      <th></th>\n",
       "      <th>actualvalues</th>\n",
       "      <th>predictedvalues</th>\n",
       "    </tr>\n",
       "  </thead>\n",
       "  <tbody>\n",
       "    <tr>\n",
       "      <td>0</td>\n",
       "      <td>angry</td>\n",
       "      <td>angry</td>\n",
       "    </tr>\n",
       "    <tr>\n",
       "      <td>1</td>\n",
       "      <td>angry</td>\n",
       "      <td>angry</td>\n",
       "    </tr>\n",
       "    <tr>\n",
       "      <td>2</td>\n",
       "      <td>angry</td>\n",
       "      <td>angry</td>\n",
       "    </tr>\n",
       "    <tr>\n",
       "      <td>3</td>\n",
       "      <td>happy</td>\n",
       "      <td>happy</td>\n",
       "    </tr>\n",
       "    <tr>\n",
       "      <td>4</td>\n",
       "      <td>surprised</td>\n",
       "      <td>surprised</td>\n",
       "    </tr>\n",
       "    <tr>\n",
       "      <td>...</td>\n",
       "      <td>...</td>\n",
       "      <td>...</td>\n",
       "    </tr>\n",
       "    <tr>\n",
       "      <td>410</td>\n",
       "      <td>happy</td>\n",
       "      <td>angry</td>\n",
       "    </tr>\n",
       "    <tr>\n",
       "      <td>411</td>\n",
       "      <td>angry</td>\n",
       "      <td>angry</td>\n",
       "    </tr>\n",
       "    <tr>\n",
       "      <td>412</td>\n",
       "      <td>angry</td>\n",
       "      <td>angry</td>\n",
       "    </tr>\n",
       "    <tr>\n",
       "      <td>413</td>\n",
       "      <td>angry</td>\n",
       "      <td>angry</td>\n",
       "    </tr>\n",
       "    <tr>\n",
       "      <td>414</td>\n",
       "      <td>angry</td>\n",
       "      <td>angry</td>\n",
       "    </tr>\n",
       "  </tbody>\n",
       "</table>\n",
       "<p>415 rows × 2 columns</p>\n",
       "</div>"
      ],
      "text/plain": [
       "    actualvalues predictedvalues\n",
       "0          angry           angry\n",
       "1          angry           angry\n",
       "2          angry           angry\n",
       "3          happy           happy\n",
       "4      surprised       surprised\n",
       "..           ...             ...\n",
       "410        happy           angry\n",
       "411        angry           angry\n",
       "412        angry           angry\n",
       "413        angry           angry\n",
       "414        angry           angry\n",
       "\n",
       "[415 rows x 2 columns]"
      ]
     },
     "execution_count": 45,
     "metadata": {},
     "output_type": "execute_result"
    }
   ],
   "source": [
    "finaldf"
   ]
  },
  {
   "cell_type": "code",
   "execution_count": 46,
   "metadata": {},
   "outputs": [
    {
     "data": {
      "text/plain": [
       "(415, 2)"
      ]
     },
     "execution_count": 46,
     "metadata": {},
     "output_type": "execute_result"
    }
   ],
   "source": [
    "finaldf.shape"
   ]
  },
  {
   "cell_type": "code",
   "execution_count": 47,
   "metadata": {},
   "outputs": [
    {
     "data": {
      "text/plain": [
       "True     400\n",
       "False     15\n",
       "dtype: int64"
      ]
     },
     "execution_count": 47,
     "metadata": {},
     "output_type": "execute_result"
    }
   ],
   "source": [
    "(finaldf.actualvalues == finaldf.predictedvalues).value_counts()"
   ]
  },
  {
   "cell_type": "code",
   "execution_count": 48,
   "metadata": {},
   "outputs": [
    {
     "data": {
      "text/html": [
       "<div>\n",
       "<style scoped>\n",
       "    .dataframe tbody tr th:only-of-type {\n",
       "        vertical-align: middle;\n",
       "    }\n",
       "\n",
       "    .dataframe tbody tr th {\n",
       "        vertical-align: top;\n",
       "    }\n",
       "\n",
       "    .dataframe thead th {\n",
       "        text-align: right;\n",
       "    }\n",
       "</style>\n",
       "<table border=\"1\" class=\"dataframe\">\n",
       "  <thead>\n",
       "    <tr style=\"text-align: right;\">\n",
       "      <th></th>\n",
       "      <th>actualvalues</th>\n",
       "      <th>predictedvalues</th>\n",
       "    </tr>\n",
       "  </thead>\n",
       "  <tbody>\n",
       "    <tr>\n",
       "      <td>99</td>\n",
       "      <td>angry</td>\n",
       "      <td>surprised</td>\n",
       "    </tr>\n",
       "    <tr>\n",
       "      <td>117</td>\n",
       "      <td>surprised</td>\n",
       "      <td>happy</td>\n",
       "    </tr>\n",
       "    <tr>\n",
       "      <td>125</td>\n",
       "      <td>angry</td>\n",
       "      <td>surprised</td>\n",
       "    </tr>\n",
       "    <tr>\n",
       "      <td>135</td>\n",
       "      <td>surprised</td>\n",
       "      <td>angry</td>\n",
       "    </tr>\n",
       "    <tr>\n",
       "      <td>143</td>\n",
       "      <td>happy</td>\n",
       "      <td>angry</td>\n",
       "    </tr>\n",
       "    <tr>\n",
       "      <td>172</td>\n",
       "      <td>angry</td>\n",
       "      <td>happy</td>\n",
       "    </tr>\n",
       "    <tr>\n",
       "      <td>193</td>\n",
       "      <td>happy</td>\n",
       "      <td>angry</td>\n",
       "    </tr>\n",
       "    <tr>\n",
       "      <td>203</td>\n",
       "      <td>happy</td>\n",
       "      <td>surprised</td>\n",
       "    </tr>\n",
       "    <tr>\n",
       "      <td>251</td>\n",
       "      <td>surprised</td>\n",
       "      <td>happy</td>\n",
       "    </tr>\n",
       "    <tr>\n",
       "      <td>257</td>\n",
       "      <td>happy</td>\n",
       "      <td>surprised</td>\n",
       "    </tr>\n",
       "    <tr>\n",
       "      <td>269</td>\n",
       "      <td>happy</td>\n",
       "      <td>angry</td>\n",
       "    </tr>\n",
       "    <tr>\n",
       "      <td>317</td>\n",
       "      <td>happy</td>\n",
       "      <td>surprised</td>\n",
       "    </tr>\n",
       "    <tr>\n",
       "      <td>352</td>\n",
       "      <td>angry</td>\n",
       "      <td>happy</td>\n",
       "    </tr>\n",
       "    <tr>\n",
       "      <td>356</td>\n",
       "      <td>happy</td>\n",
       "      <td>surprised</td>\n",
       "    </tr>\n",
       "    <tr>\n",
       "      <td>410</td>\n",
       "      <td>happy</td>\n",
       "      <td>angry</td>\n",
       "    </tr>\n",
       "  </tbody>\n",
       "</table>\n",
       "</div>"
      ],
      "text/plain": [
       "    actualvalues predictedvalues\n",
       "99         angry       surprised\n",
       "117    surprised           happy\n",
       "125        angry       surprised\n",
       "135    surprised           angry\n",
       "143        happy           angry\n",
       "172        angry           happy\n",
       "193        happy           angry\n",
       "203        happy       surprised\n",
       "251    surprised           happy\n",
       "257        happy       surprised\n",
       "269        happy           angry\n",
       "317        happy       surprised\n",
       "352        angry           happy\n",
       "356        happy       surprised\n",
       "410        happy           angry"
      ]
     },
     "execution_count": 48,
     "metadata": {},
     "output_type": "execute_result"
    }
   ],
   "source": [
    "finaldf[finaldf.actualvalues != finaldf.predictedvalues]"
   ]
  },
  {
   "cell_type": "markdown",
   "metadata": {},
   "source": [
    "# Normal Nueral Nertwork"
   ]
  },
  {
   "cell_type": "code",
   "execution_count": null,
   "metadata": {},
   "outputs": [],
   "source": [
    "model = Sequential()\n",
    "model.add(Dense(X_train.shape[1], input_dim=X_train.shape[1], activation='relu'))\n",
    "model.add(Dense(3, activation='softmax')) # activation for binary classification"
   ]
  },
  {
   "cell_type": "code",
   "execution_count": null,
   "metadata": {},
   "outputs": [],
   "source": [
    "from tensorflow.keras import regularizers"
   ]
  },
  {
   "cell_type": "code",
   "execution_count": null,
   "metadata": {},
   "outputs": [],
   "source": [
    "model_1 = Sequential()\n",
    "model_1.add(Dense(X_train.shape[1],\n",
    "                input_dim=X_train.shape[1],\n",
    "                activation='relu',\n",
    "                kernel_regularizer=regularizers.l1(0.01)))\n",
    "model_1.add(Dense(3, activation='softmax'))"
   ]
  },
  {
   "cell_type": "code",
   "execution_count": null,
   "metadata": {},
   "outputs": [],
   "source": [
    "model_1.summary()"
   ]
  },
  {
   "cell_type": "code",
   "execution_count": null,
   "metadata": {},
   "outputs": [],
   "source": [
    "model_1.compile(loss='binary_crossentropy', optimizer='adam', metrics=['accuracy'])"
   ]
  },
  {
   "cell_type": "code",
   "execution_count": null,
   "metadata": {},
   "outputs": [],
   "source": [
    "result_1 = model_1.fit(X_train,\n",
    "                    y_train,\n",
    "                    validation_data=(X_test, y_test),\n",
    "                    epochs=1000,\n",
    "                    batch_size=None,\n",
    "                    verbose=1) "
   ]
  },
  {
   "cell_type": "code",
   "execution_count": null,
   "metadata": {},
   "outputs": [],
   "source": [
    "train_loss = result.history['loss']\n",
    "test_loss = result.history['val_loss']\n",
    "plt.plot(train_loss, label='Training loss')\n",
    "plt.plot(test_loss, label='Testing loss')\n",
    "plt.legend()"
   ]
  },
  {
   "cell_type": "code",
   "execution_count": null,
   "metadata": {},
   "outputs": [],
   "source": [
    "train_loss1 = result_1.history['loss']\n",
    "test_loss1 = result_1.history['val_loss']\n",
    "plt.plot(train_loss1, label='Training loss')\n",
    "plt.plot(test_loss1, label='Testing loss')\n",
    "plt.legend()"
   ]
  },
  {
   "cell_type": "code",
   "execution_count": null,
   "metadata": {},
   "outputs": [],
   "source": [
    "print('Train Accuracy', result_1.history['loss'][-1])\n",
    "print('Test Accuracy', result_1.history['val_loss'][-1])"
   ]
  },
  {
   "cell_type": "code",
   "execution_count": null,
   "metadata": {},
   "outputs": [],
   "source": [
    "##########"
   ]
  },
  {
   "cell_type": "code",
   "execution_count": null,
   "metadata": {},
   "outputs": [],
   "source": [
    "model_2 = Sequential()\n",
    "model_2.add(Dense(X_train.shape[1],\n",
    "                input_dim=X_train.shape[1],\n",
    "                activation='relu'))\n",
    "model_2.add(Dropout(0.8))\n",
    "model_2.add(Dense(3, activation='softmax'))"
   ]
  },
  {
   "cell_type": "code",
   "execution_count": null,
   "metadata": {},
   "outputs": [],
   "source": [
    "model_2.summary()"
   ]
  },
  {
   "cell_type": "code",
   "execution_count": null,
   "metadata": {},
   "outputs": [],
   "source": [
    "model_2.compile(loss='binary_crossentropy', optimizer='adam', metrics=['accuracy'])"
   ]
  },
  {
   "cell_type": "code",
   "execution_count": null,
   "metadata": {},
   "outputs": [],
   "source": [
    "result_2 = model_2.fit(X_train,\n",
    "                    y_train,\n",
    "                    validation_data=(X_test, y_test),\n",
    "                    epochs=450,\n",
    "                    batch_size=None,\n",
    "                    verbose=0) "
   ]
  },
  {
   "cell_type": "code",
   "execution_count": null,
   "metadata": {},
   "outputs": [],
   "source": [
    "print('Train loss', result_2.history['loss'][-1])\n",
    "print('Test loss', result_2.history['val_loss'][-1])"
   ]
  },
  {
   "cell_type": "code",
   "execution_count": null,
   "metadata": {},
   "outputs": [],
   "source": [
    "## plot loss function\n",
    "train_loss = result_2.history['loss']\n",
    "test_loss = result_2.history['val_loss']\n",
    "plt.plot(train_loss, label='Training loss')\n",
    "plt.plot(test_loss, label='Testing loss')\n",
    "plt.legend()"
   ]
  },
  {
   "cell_type": "code",
   "execution_count": null,
   "metadata": {},
   "outputs": [],
   "source": []
  }
 ],
 "metadata": {
  "kernelspec": {
   "display_name": "Python 3",
   "language": "python",
   "name": "python3"
  },
  "language_info": {
   "codemirror_mode": {
    "name": "ipython",
    "version": 3
   },
   "file_extension": ".py",
   "mimetype": "text/x-python",
   "name": "python",
   "nbconvert_exporter": "python",
   "pygments_lexer": "ipython3",
   "version": "3.7.4"
  }
 },
 "nbformat": 4,
 "nbformat_minor": 2
}
